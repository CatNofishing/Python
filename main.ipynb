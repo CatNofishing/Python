{
 "cells": [
  {
   "cell_type": "code",
   "execution_count": 2,
   "metadata": {},
   "outputs": [],
   "source": [
    "import time\n",
    "import pickle\n",
    "import selenium.webdriver as webdriver\n",
    "from selenium.webdriver.common.by import By\n",
    "from selenium.webdriver.support.ui import WebDriverWait\n",
    "from selenium.webdriver.support import expected_conditions as Ec\n",
    "\n",
    "def watch(driver,button_list):\n",
    "    for i,button in enumerate(button_list):\n",
    "        if i==0:\n",
    "            button.click()\n",
    "            time.sleep(2)\n",
    "            check_text=WebDriverWait(driver,5,0.1).until(Ec.visibility_of_all_elements_located((By.XPATH,r'/html/body/div/div[4]/div[2]/div[2]/div')))\n",
    "            if button.find_element(By.XPATH,r'./span/span/a').get_attribute('data-original-title') in ['文本讲解学习中','文本讲解未学习']:\n",
    "                check_text=WebDriverWait(driver,5,0.1).until(Ec.visibility_of_all_elements_located((By.XPATH,r'/html/body/div/div[4]/div[2]/div[2]/div')))\n",
    "                time.sleep(200)\n",
    "        else:\n",
    "            button.click()\n",
    "            time.sleep(2)\n",
    "            check_video=None\n",
    "            while True:\n",
    "                try:\n",
    "                    check_video=WebDriverWait(driver,5,0.1).until(Ec.visibility_of_all_elements_located((By.XPATH,r'//*[@id=\"replaybtn\"]')))[0]\n",
    "                except:\n",
    "                    button.click()\n",
    "                    time.sleep(1)\n",
    "                if check_video !=None:\n",
    "                    break\n",
    "            if button.find_element(By.XPATH,r'./span/span/a').get_attribute('data-original-title') in ['视频讲解学习中','视频讲解未学习'] :\n",
    "                check_video=WebDriverWait(driver,5,0.1).until(Ec.visibility_of_all_elements_located((By.XPATH,r'//*[@id=\"replaybtn\"]')))[0]\n",
    "                check_video.click()\n",
    "                while True:\n",
    "                    if check_video.get_attribute(\"style\") == 'display: block; z-index: 1500;':\n",
    "                        time.sleep(2)\n",
    "                        break\n",
    "                    else:\n",
    "                        time.sleep(2)\n",
    "                        #driver.execute_script(\"return arguments[0].pause()\",driver.find_element(By.XPATH,'//video'))\n"
   ]
  },
  {
   "cell_type": "code",
   "execution_count": 3,
   "metadata": {},
   "outputs": [
    {
     "name": "stderr",
     "output_type": "stream",
     "text": [
      "C:\\Users\\嘴甜的大苏\\AppData\\Local\\Temp\\ipykernel_19844\\748923907.py:1: DeprecationWarning: executable_path has been deprecated, please pass in a Service object\n",
      "  driver=webdriver.Edge(r'C:\\Users\\嘴甜的大苏\\Desktop\\Python\\msedgedriver.exe')\n"
     ]
    }
   ],
   "source": [
    "driver=webdriver.Edge(r'C:\\Users\\嘴甜的大苏\\Desktop\\Python\\msedgedriver.exe')\n",
    "driver.maximize_window()\n",
    "driver.get(r'https://passport.5any.com/Passport/WebUI/Account/Login?ReturnUrl=%2fpassport%2fwebUI%2fAccount%2fCheckWebApplication%3fWebApplicationId%3dedumsJxStuApi%26AppReturnUrl%3dhttps%253a%252f%252festudy.5any.com%252fwebui%252fClassroomView%252fClassroomIndex.html&WebApplicationId=edumsJxStuApi&AppReturnUrl=https%3a%2f%2festudy.5any.com%2fwebui%2fClassroomView%2fClassroomIndex.html')\n",
    "driver.find_element(By.XPATH,r'//*[@id=\"userid\"]').send_keys('221ylsyn')\n",
    "driver.find_element(By.XPATH,r'//*[@id=\"pwd\"]').send_keys('286444')\n",
    "time.sleep(10)\n",
    "driver.get(r'https://estudy.5any.com/webui/Course/CourseTeaching.html')"
   ]
  },
  {
   "cell_type": "code",
   "execution_count": 5,
   "metadata": {},
   "outputs": [],
   "source": [
    "driver.switch_to.window(driver.window_handles[1])\n"
   ]
  },
  {
   "cell_type": "code",
   "execution_count": 8,
   "metadata": {},
   "outputs": [
    {
     "name": "stdout",
     "output_type": "stream",
     "text": [
      "第七章 超静定结构的内力分析和位移计算\n",
      "本章前言\n",
      "7.1 超静定结构概述\n",
      "7.1.1 超静定结构的基本概念\n",
      "7.1.2 超静定次数的确定\n"
     ]
    }
   ],
   "source": [
    "\n",
    "zhang_list=driver.find_elements(By.XPATH,r'//li[@class=\"tree-liname-1 tree-liname-only\"]')\n",
    "for zhang in zhang_list[6:]:\n",
    "    try:\n",
    "        click_state=zhang.find_element(By.XPATH,r'./ul').get_attribute('style')\n",
    "    except:\n",
    "        zhang.click()\n",
    "    if click_state == 'display: none; height: auto;':\n",
    "        try:\n",
    "            zhang.click()\n",
    "            time.sleep(2)\n",
    "            WebDriverWait(zhang,10,0.1).until(Ec.visibility_of_all_elements_located((By.XPATH,r'/html/body/div/div[4]/div[2]')))\n",
    "        except:\n",
    "            driver.execute_script(\"arguments[0].click();\", zhang)\n",
    "    try:\n",
    "        wait=WebDriverWait(zhang,10,0.1).until(Ec.visibility_of_all_elements_located((By.XPATH,r'./ul/li')))\n",
    "    except:\n",
    "        pass\n",
    "    zhang_name=zhang.find_element(By.XPATH,r'./a//object/a').text\n",
    "    if zhang_name.strip():\n",
    "        print(zhang_name)\n",
    "        for jie in zhang.find_elements(By.XPATH,r'./ul/li'):\n",
    "            if jie.text.strip():\n",
    "                print(jie.text)\n",
    "                try:\n",
    "                    jie.click()\n",
    "                except:\n",
    "                    driver.execute_script(\"arguments[0].click();\", jie)\n",
    "                try:\n",
    "                    wait=WebDriverWait(jie,10,0.1).until(Ec.visibility_of_all_elements_located((By.XPATH,r'./ul/li')))\n",
    "                    time.sleep(1)\n",
    "                except:\n",
    "                    pass\n",
    "                inspect_jie=0\n",
    "                for tiao in jie.find_elements(By.XPATH,r'./ul/li'):\n",
    "                    if tiao.text.strip():\n",
    "                        inspect_jie+=1\n",
    "                        print(tiao.text)\n",
    "                        tiao.click()\n",
    "                        button_list=WebDriverWait(driver,5,0.1).until(Ec.visibility_of_all_elements_located((By.XPATH,r'/html/body/div/div[4]/div[1]/div/span')))\n",
    "                        watch(driver,button_list)\n",
    "                if inspect_jie ==0:\n",
    "                    button_list=WebDriverWait(driver,5,0.1).until(Ec.visibility_of_all_elements_located((By.XPATH,r'/html/body/div/div[4]/div[1]/div/span')))\n",
    "                    watch(driver,button_list)\n",
    "    driver.refresh()\n",
    "    try:\n",
    "        WebDriverWait(driver,5,0.1).until(Ec.visibility_of_element_located((By.XPATH,r'/html/body/div/div[3]/div[2]')))\n",
    "    except:\n",
    "        print('页面加载失败!')"
   ]
  },
  {
   "cell_type": "code",
   "execution_count": null,
   "metadata": {},
   "outputs": [],
   "source": []
  }
 ],
 "metadata": {
  "interpreter": {
   "hash": "4eaf1be304415beee96765ae99c3f893cc8312c7f1196698e6029668e9aeb3e5"
  },
  "kernelspec": {
   "display_name": "Python 3.9.10 64-bit",
   "language": "python",
   "name": "python3"
  },
  "language_info": {
   "codemirror_mode": {
    "name": "ipython",
    "version": 3
   },
   "file_extension": ".py",
   "mimetype": "text/x-python",
   "name": "python",
   "nbconvert_exporter": "python",
   "pygments_lexer": "ipython3",
   "version": "3.9.10"
  },
  "orig_nbformat": 4
 },
 "nbformat": 4,
 "nbformat_minor": 2
}
