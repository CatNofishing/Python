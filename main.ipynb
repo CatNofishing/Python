{
 "cells": [
  {
   "cell_type": "code",
   "execution_count": 5,
   "metadata": {},
   "outputs": [],
   "source": [
    "import time\n",
    "import pickle\n",
    "import selenium.webdriver as webdriver\n",
    "from selenium.webdriver.common.by import By\n",
    "from selenium.webdriver.support.ui import WebDriverWait\n",
    "from selenium.webdriver.support import expected_conditions as Ec\n",
    "\n",
    "def watch(driver,button_list):\n",
    "    for i,button in enumerate(button_list):\n",
    "        if i==0:\n",
    "            time.sleep(2)\n",
    "            check_text=WebDriverWait(driver,5,0.1).until(Ec.visibility_of_all_elements_located((By.XPATH,r'/html/body/div/div[4]/div[2]/div[2]/div')))\n",
    "            if button.find_element(By.XPATH,r'./span/span/a').get_attribute('data-original-title') in ['文本讲解学习中','文本讲解未学习']:\n",
    "                check_text=WebDriverWait(driver,5,0.1).until(Ec.visibility_of_all_elements_located((By.XPATH,r'/html/body/div/div[4]/div[2]/div[2]/div')))\n",
    "                time.sleep(200)\n",
    "        else:\n",
    "            button.click()\n",
    "            time.sleep(2)\n",
    "            check_video=None\n",
    "            while True:\n",
    "                try:\n",
    "                    check_video=WebDriverWait(driver,5,0.1).until(Ec.visibility_of_all_elements_located((By.XPATH,r'//*[@id=\"replaybtn\"]')))[0]\n",
    "                except:\n",
    "                    button.click()\n",
    "                    time.sleep(1)\n",
    "                if check_video !=None:\n",
    "                    break\n",
    "            if button.find_element(By.XPATH,r'./span/span/a').get_attribute('data-original-title') in ['视频讲解学习中','视频讲解未学习','视频讲解1学习中','视频讲解2学习中'] :\n",
    "                check_video=WebDriverWait(driver,5,0.1).until(Ec.visibility_of_all_elements_located((By.XPATH,r'//*[@id=\"replaybtn\"]')))[0]\n",
    "                check_video.click()\n",
    "                while True:\n",
    "                    if check_video.get_attribute(\"style\") == 'display: block; z-index: 1500;':\n",
    "                        time.sleep(2)\n",
    "                        break\n",
    "                    else:\n",
    "                        time.sleep(2)\n",
    "                       \n"
   ]
  },
  {
   "cell_type": "code",
   "execution_count": 2,
   "metadata": {},
   "outputs": [
    {
     "name": "stderr",
     "output_type": "stream",
     "text": [
      "C:\\Users\\嘴甜的大苏\\AppData\\Local\\Temp\\ipykernel_20028\\748923907.py:1: DeprecationWarning: executable_path has been deprecated, please pass in a Service object\n",
      "  driver=webdriver.Edge(r'C:\\Users\\嘴甜的大苏\\Desktop\\Python\\msedgedriver.exe')\n"
     ]
    }
   ],
   "source": [
    "driver=webdriver.Edge(r'C:\\Users\\嘴甜的大苏\\Desktop\\Python\\msedgedriver.exe')\n",
    "driver.maximize_window()\n",
    "driver.get(r'https://passport.5any.com/Passport/WebUI/Account/Login?ReturnUrl=%2fpassport%2fwebUI%2fAccount%2fCheckWebApplication%3fWebApplicationId%3dedumsJxStuApi%26AppReturnUrl%3dhttps%253a%252f%252festudy.5any.com%252fwebui%252fClassroomView%252fClassroomIndex.html&WebApplicationId=edumsJxStuApi&AppReturnUrl=https%3a%2f%2festudy.5any.com%2fwebui%2fClassroomView%2fClassroomIndex.html')\n",
    "driver.find_element(By.XPATH,r'//*[@id=\"userid\"]').send_keys('221ylsyn')\n",
    "driver.find_element(By.XPATH,r'//*[@id=\"pwd\"]').send_keys('286444')\n",
    "time.sleep(10)\n",
    "driver.get(r'https://estudy.5any.com/webui/Course/CourseTeaching.html')"
   ]
  },
  {
   "cell_type": "code",
   "execution_count": 3,
   "metadata": {},
   "outputs": [],
   "source": [
    "driver.switch_to.window(driver.window_handles[1])\n"
   ]
  },
  {
   "cell_type": "code",
   "execution_count": 4,
   "metadata": {},
   "outputs": [
    {
     "name": "stdout",
     "output_type": "stream",
     "text": [
      "第1章 绪论\n",
      "本章前言\n",
      "1.1 绪论\n",
      "本章总结\n",
      "第2章 静力学基础\n",
      "本章前言\n",
      "2.1 静力学基本概念\n",
      "2.2 静力学基本公理\n",
      "2.2.1 静力学基本公理\n",
      "2.2.2 两个推论\n",
      "2.3 约束和约束反力\n",
      "2.3.1 约束和约束反力\n",
      "2.3.2 工程中常见的几种约束类型及其约束反力\n",
      "2.4 物体的受力分析和受力图\n",
      "本章总结\n",
      "第3章 平面力系的简化\n",
      "本章前言\n",
      "3.1 力的投影与分解\n",
      "3.2 平面力系中力对点之矩\n",
      "3.3 力偶及其性质\n",
      "3.4 力的平移定理\n",
      "3.5 平面一般力系的简化\n",
      "3.5.1 平面一般力系向任一点简化\n",
      "3.5.2 平面一般力系简化结果分析\n",
      "3.5.3平面一般力系简化应用\n"
     ]
    },
    {
     "ename": "StaleElementReferenceException",
     "evalue": "Message: stale element reference: element is not attached to the page document\n  (Session info: MicrosoftEdge=100.0.1185.36)\nStacktrace:\nBacktrace:\n\tMicrosoft::Applications::Events::EventProperties::unpack [0x00007FF62D6292F2+24834]\n\tMicrosoft::Applications::Events::time_ticks_t::time_ticks_t [0x00007FF62D566752+523442]\n\tOrdinal0 [0x00007FF62D0613B5+660405]\n\tOrdinal0 [0x00007FF62D0649BA+674234]\n\tOrdinal0 [0x00007FF62D06473B+673595]\n\tOrdinal0 [0x00007FF62D065646+677446]\n\tOrdinal0 [0x00007FF62D0CD41A+1102874]\n\tOrdinal0 [0x00007FF62D0B7D9A+1015194]\n\tOrdinal0 [0x00007FF62D0CC467+1098855]\n\tOrdinal0 [0x00007FF62D0B7BB3+1014707]\n\tOrdinal0 [0x00007FF62D08EAE0+846560]\n\tOrdinal0 [0x00007FF62D08FED8+851672]\n\tMicrosoft::Applications::Events::EventProperty::to_string [0x00007FF62D22A6E8+846504]\n\tMicrosoft::Applications::Events::EventProperty::EventProperty [0x00007FF62D31ACA1+36529]\n\tMicrosoft::Applications::Events::EventProperty::EventProperty [0x00007FF62D31DFC2+49618]\n\tMicrosoft::Applications::Events::EventProperty::to_string [0x00007FF62D163566+31014]\n\tMicrosoft::Applications::Events::time_ticks_t::time_ticks_t [0x00007FF62D56D6D1+551985]\n\tMicrosoft::Applications::Events::time_ticks_t::time_ticks_t [0x00007FF62D5721E4+571204]\n\tMicrosoft::Applications::Events::time_ticks_t::time_ticks_t [0x00007FF62D57233D+571549]\n\tMicrosoft::Applications::Events::time_ticks_t::time_ticks_t [0x00007FF62D57B46E+608718]\n\tBaseThreadInitThunk [0x00007FFF2F407034+20]\n\tRtlUserThreadStart [0x00007FFF2F6E2651+33]\n",
     "output_type": "error",
     "traceback": [
      "\u001b[1;31m---------------------------------------------------------------------------\u001b[0m",
      "\u001b[1;31mStaleElementReferenceException\u001b[0m            Traceback (most recent call last)",
      "\u001b[1;32mc:\\Users\\嘴甜的大苏\\Desktop\\Python\\main copy.ipynb Cell 4'\u001b[0m in \u001b[0;36m<module>\u001b[1;34m\u001b[0m\n\u001b[0;32m     <a href='vscode-notebook-cell:/c%3A/Users/%E5%98%B4%E7%94%9C%E7%9A%84%E5%A4%A7%E8%8B%8F/Desktop/Python/main%20copy.ipynb#ch0000003?line=30'>31</a>\u001b[0m         tiao\u001b[39m.\u001b[39mclick()\n\u001b[0;32m     <a href='vscode-notebook-cell:/c%3A/Users/%E5%98%B4%E7%94%9C%E7%9A%84%E5%A4%A7%E8%8B%8F/Desktop/Python/main%20copy.ipynb#ch0000003?line=31'>32</a>\u001b[0m         button_list\u001b[39m=\u001b[39mWebDriverWait(driver,\u001b[39m5\u001b[39m,\u001b[39m0.1\u001b[39m)\u001b[39m.\u001b[39muntil(Ec\u001b[39m.\u001b[39mvisibility_of_all_elements_located((By\u001b[39m.\u001b[39mXPATH,\u001b[39mr\u001b[39m\u001b[39m'\u001b[39m\u001b[39m/html/body/div/div[4]/div[1]/div/span\u001b[39m\u001b[39m'\u001b[39m)))\n\u001b[1;32m---> <a href='vscode-notebook-cell:/c%3A/Users/%E5%98%B4%E7%94%9C%E7%9A%84%E5%A4%A7%E8%8B%8F/Desktop/Python/main%20copy.ipynb#ch0000003?line=32'>33</a>\u001b[0m         watch(driver,button_list)\n\u001b[0;32m     <a href='vscode-notebook-cell:/c%3A/Users/%E5%98%B4%E7%94%9C%E7%9A%84%E5%A4%A7%E8%8B%8F/Desktop/Python/main%20copy.ipynb#ch0000003?line=33'>34</a>\u001b[0m \u001b[39mif\u001b[39;00m inspect_jie \u001b[39m==\u001b[39m\u001b[39m0\u001b[39m:\n\u001b[0;32m     <a href='vscode-notebook-cell:/c%3A/Users/%E5%98%B4%E7%94%9C%E7%9A%84%E5%A4%A7%E8%8B%8F/Desktop/Python/main%20copy.ipynb#ch0000003?line=34'>35</a>\u001b[0m     button_list\u001b[39m=\u001b[39mWebDriverWait(driver,\u001b[39m5\u001b[39m,\u001b[39m0.1\u001b[39m)\u001b[39m.\u001b[39muntil(Ec\u001b[39m.\u001b[39mvisibility_of_all_elements_located((By\u001b[39m.\u001b[39mXPATH,\u001b[39mr\u001b[39m\u001b[39m'\u001b[39m\u001b[39m/html/body/div/div[4]/div[1]/div/span\u001b[39m\u001b[39m'\u001b[39m)))\n",
      "\u001b[1;32mc:\\Users\\嘴甜的大苏\\Desktop\\Python\\main copy.ipynb Cell 1'\u001b[0m in \u001b[0;36mwatch\u001b[1;34m(driver, button_list)\u001b[0m\n\u001b[0;32m     <a href='vscode-notebook-cell:/c%3A/Users/%E5%98%B4%E7%94%9C%E7%9A%84%E5%A4%A7%E8%8B%8F/Desktop/Python/main%20copy.ipynb#ch0000000?line=30'>31</a>\u001b[0m check_video\u001b[39m.\u001b[39mclick()\n\u001b[0;32m     <a href='vscode-notebook-cell:/c%3A/Users/%E5%98%B4%E7%94%9C%E7%9A%84%E5%A4%A7%E8%8B%8F/Desktop/Python/main%20copy.ipynb#ch0000000?line=31'>32</a>\u001b[0m \u001b[39mwhile\u001b[39;00m \u001b[39mTrue\u001b[39;00m:\n\u001b[1;32m---> <a href='vscode-notebook-cell:/c%3A/Users/%E5%98%B4%E7%94%9C%E7%9A%84%E5%A4%A7%E8%8B%8F/Desktop/Python/main%20copy.ipynb#ch0000000?line=32'>33</a>\u001b[0m     \u001b[39mif\u001b[39;00m check_video\u001b[39m.\u001b[39;49mget_attribute(\u001b[39m\"\u001b[39;49m\u001b[39mstyle\u001b[39;49m\u001b[39m\"\u001b[39;49m) \u001b[39m==\u001b[39m \u001b[39m'\u001b[39m\u001b[39mdisplay: block; z-index: 1500;\u001b[39m\u001b[39m'\u001b[39m:\n\u001b[0;32m     <a href='vscode-notebook-cell:/c%3A/Users/%E5%98%B4%E7%94%9C%E7%9A%84%E5%A4%A7%E8%8B%8F/Desktop/Python/main%20copy.ipynb#ch0000000?line=33'>34</a>\u001b[0m         time\u001b[39m.\u001b[39msleep(\u001b[39m2\u001b[39m)\n\u001b[0;32m     <a href='vscode-notebook-cell:/c%3A/Users/%E5%98%B4%E7%94%9C%E7%9A%84%E5%A4%A7%E8%8B%8F/Desktop/Python/main%20copy.ipynb#ch0000000?line=34'>35</a>\u001b[0m         \u001b[39mbreak\u001b[39;00m\n",
      "File \u001b[1;32mD:\\python\\lib\\site-packages\\selenium\\webdriver\\remote\\webelement.py:155\u001b[0m, in \u001b[0;36mWebElement.get_attribute\u001b[1;34m(self, name)\u001b[0m\n\u001b[0;32m    <a href='file:///d%3A/python/lib/site-packages/selenium/webdriver/remote/webelement.py?line=127'>128</a>\u001b[0m \u001b[39mdef\u001b[39;00m \u001b[39mget_attribute\u001b[39m(\u001b[39mself\u001b[39m, name) \u001b[39m-\u001b[39m\u001b[39m>\u001b[39m \u001b[39mstr\u001b[39m:\n\u001b[0;32m    <a href='file:///d%3A/python/lib/site-packages/selenium/webdriver/remote/webelement.py?line=128'>129</a>\u001b[0m     \u001b[39m\"\"\"Gets the given attribute or property of the element.\u001b[39;00m\n\u001b[0;32m    <a href='file:///d%3A/python/lib/site-packages/selenium/webdriver/remote/webelement.py?line=129'>130</a>\u001b[0m \n\u001b[0;32m    <a href='file:///d%3A/python/lib/site-packages/selenium/webdriver/remote/webelement.py?line=130'>131</a>\u001b[0m \u001b[39m    This method will first try to return the value of a property with the\u001b[39;00m\n\u001b[1;32m   (...)\u001b[0m\n\u001b[0;32m    <a href='file:///d%3A/python/lib/site-packages/selenium/webdriver/remote/webelement.py?line=151'>152</a>\u001b[0m \n\u001b[0;32m    <a href='file:///d%3A/python/lib/site-packages/selenium/webdriver/remote/webelement.py?line=152'>153</a>\u001b[0m \u001b[39m    \"\"\"\u001b[39;00m\n\u001b[1;32m--> <a href='file:///d%3A/python/lib/site-packages/selenium/webdriver/remote/webelement.py?line=154'>155</a>\u001b[0m     attribute_value \u001b[39m=\u001b[39m \u001b[39mself\u001b[39;49m\u001b[39m.\u001b[39;49mparent\u001b[39m.\u001b[39;49mexecute_script(\n\u001b[0;32m    <a href='file:///d%3A/python/lib/site-packages/selenium/webdriver/remote/webelement.py?line=155'>156</a>\u001b[0m         \u001b[39m\"\u001b[39;49m\u001b[39mreturn (\u001b[39;49m\u001b[39m%s\u001b[39;49;00m\u001b[39m).apply(null, arguments);\u001b[39;49m\u001b[39m\"\u001b[39;49m \u001b[39m%\u001b[39;49m getAttribute_js,\n\u001b[0;32m    <a href='file:///d%3A/python/lib/site-packages/selenium/webdriver/remote/webelement.py?line=156'>157</a>\u001b[0m         \u001b[39mself\u001b[39;49m, name)\n\u001b[0;32m    <a href='file:///d%3A/python/lib/site-packages/selenium/webdriver/remote/webelement.py?line=157'>158</a>\u001b[0m     \u001b[39mreturn\u001b[39;00m attribute_value\n",
      "File \u001b[1;32mD:\\python\\lib\\site-packages\\selenium\\webdriver\\remote\\webdriver.py:879\u001b[0m, in \u001b[0;36mWebDriver.execute_script\u001b[1;34m(self, script, *args)\u001b[0m\n\u001b[0;32m    <a href='file:///d%3A/python/lib/site-packages/selenium/webdriver/remote/webdriver.py?line=875'>876</a>\u001b[0m converted_args \u001b[39m=\u001b[39m \u001b[39mlist\u001b[39m(args)\n\u001b[0;32m    <a href='file:///d%3A/python/lib/site-packages/selenium/webdriver/remote/webdriver.py?line=876'>877</a>\u001b[0m command \u001b[39m=\u001b[39m Command\u001b[39m.\u001b[39mW3C_EXECUTE_SCRIPT\n\u001b[1;32m--> <a href='file:///d%3A/python/lib/site-packages/selenium/webdriver/remote/webdriver.py?line=878'>879</a>\u001b[0m \u001b[39mreturn\u001b[39;00m \u001b[39mself\u001b[39;49m\u001b[39m.\u001b[39;49mexecute(command, {\n\u001b[0;32m    <a href='file:///d%3A/python/lib/site-packages/selenium/webdriver/remote/webdriver.py?line=879'>880</a>\u001b[0m     \u001b[39m'\u001b[39;49m\u001b[39mscript\u001b[39;49m\u001b[39m'\u001b[39;49m: script,\n\u001b[0;32m    <a href='file:///d%3A/python/lib/site-packages/selenium/webdriver/remote/webdriver.py?line=880'>881</a>\u001b[0m     \u001b[39m'\u001b[39;49m\u001b[39margs\u001b[39;49m\u001b[39m'\u001b[39;49m: converted_args})[\u001b[39m'\u001b[39m\u001b[39mvalue\u001b[39m\u001b[39m'\u001b[39m]\n",
      "File \u001b[1;32mD:\\python\\lib\\site-packages\\selenium\\webdriver\\remote\\webdriver.py:425\u001b[0m, in \u001b[0;36mWebDriver.execute\u001b[1;34m(self, driver_command, params)\u001b[0m\n\u001b[0;32m    <a href='file:///d%3A/python/lib/site-packages/selenium/webdriver/remote/webdriver.py?line=422'>423</a>\u001b[0m response \u001b[39m=\u001b[39m \u001b[39mself\u001b[39m\u001b[39m.\u001b[39mcommand_executor\u001b[39m.\u001b[39mexecute(driver_command, params)\n\u001b[0;32m    <a href='file:///d%3A/python/lib/site-packages/selenium/webdriver/remote/webdriver.py?line=423'>424</a>\u001b[0m \u001b[39mif\u001b[39;00m response:\n\u001b[1;32m--> <a href='file:///d%3A/python/lib/site-packages/selenium/webdriver/remote/webdriver.py?line=424'>425</a>\u001b[0m     \u001b[39mself\u001b[39;49m\u001b[39m.\u001b[39;49merror_handler\u001b[39m.\u001b[39;49mcheck_response(response)\n\u001b[0;32m    <a href='file:///d%3A/python/lib/site-packages/selenium/webdriver/remote/webdriver.py?line=425'>426</a>\u001b[0m     response[\u001b[39m'\u001b[39m\u001b[39mvalue\u001b[39m\u001b[39m'\u001b[39m] \u001b[39m=\u001b[39m \u001b[39mself\u001b[39m\u001b[39m.\u001b[39m_unwrap_value(\n\u001b[0;32m    <a href='file:///d%3A/python/lib/site-packages/selenium/webdriver/remote/webdriver.py?line=426'>427</a>\u001b[0m         response\u001b[39m.\u001b[39mget(\u001b[39m'\u001b[39m\u001b[39mvalue\u001b[39m\u001b[39m'\u001b[39m, \u001b[39mNone\u001b[39;00m))\n\u001b[0;32m    <a href='file:///d%3A/python/lib/site-packages/selenium/webdriver/remote/webdriver.py?line=427'>428</a>\u001b[0m     \u001b[39mreturn\u001b[39;00m response\n",
      "File \u001b[1;32mD:\\python\\lib\\site-packages\\selenium\\webdriver\\remote\\errorhandler.py:247\u001b[0m, in \u001b[0;36mErrorHandler.check_response\u001b[1;34m(self, response)\u001b[0m\n\u001b[0;32m    <a href='file:///d%3A/python/lib/site-packages/selenium/webdriver/remote/errorhandler.py?line=244'>245</a>\u001b[0m         alert_text \u001b[39m=\u001b[39m value[\u001b[39m'\u001b[39m\u001b[39malert\u001b[39m\u001b[39m'\u001b[39m]\u001b[39m.\u001b[39mget(\u001b[39m'\u001b[39m\u001b[39mtext\u001b[39m\u001b[39m'\u001b[39m)\n\u001b[0;32m    <a href='file:///d%3A/python/lib/site-packages/selenium/webdriver/remote/errorhandler.py?line=245'>246</a>\u001b[0m     \u001b[39mraise\u001b[39;00m exception_class(message, screen, stacktrace, alert_text)  \u001b[39m# type: ignore[call-arg]  # mypy is not smart enough here\u001b[39;00m\n\u001b[1;32m--> <a href='file:///d%3A/python/lib/site-packages/selenium/webdriver/remote/errorhandler.py?line=246'>247</a>\u001b[0m \u001b[39mraise\u001b[39;00m exception_class(message, screen, stacktrace)\n",
      "\u001b[1;31mStaleElementReferenceException\u001b[0m: Message: stale element reference: element is not attached to the page document\n  (Session info: MicrosoftEdge=100.0.1185.36)\nStacktrace:\nBacktrace:\n\tMicrosoft::Applications::Events::EventProperties::unpack [0x00007FF62D6292F2+24834]\n\tMicrosoft::Applications::Events::time_ticks_t::time_ticks_t [0x00007FF62D566752+523442]\n\tOrdinal0 [0x00007FF62D0613B5+660405]\n\tOrdinal0 [0x00007FF62D0649BA+674234]\n\tOrdinal0 [0x00007FF62D06473B+673595]\n\tOrdinal0 [0x00007FF62D065646+677446]\n\tOrdinal0 [0x00007FF62D0CD41A+1102874]\n\tOrdinal0 [0x00007FF62D0B7D9A+1015194]\n\tOrdinal0 [0x00007FF62D0CC467+1098855]\n\tOrdinal0 [0x00007FF62D0B7BB3+1014707]\n\tOrdinal0 [0x00007FF62D08EAE0+846560]\n\tOrdinal0 [0x00007FF62D08FED8+851672]\n\tMicrosoft::Applications::Events::EventProperty::to_string [0x00007FF62D22A6E8+846504]\n\tMicrosoft::Applications::Events::EventProperty::EventProperty [0x00007FF62D31ACA1+36529]\n\tMicrosoft::Applications::Events::EventProperty::EventProperty [0x00007FF62D31DFC2+49618]\n\tMicrosoft::Applications::Events::EventProperty::to_string [0x00007FF62D163566+31014]\n\tMicrosoft::Applications::Events::time_ticks_t::time_ticks_t [0x00007FF62D56D6D1+551985]\n\tMicrosoft::Applications::Events::time_ticks_t::time_ticks_t [0x00007FF62D5721E4+571204]\n\tMicrosoft::Applications::Events::time_ticks_t::time_ticks_t [0x00007FF62D57233D+571549]\n\tMicrosoft::Applications::Events::time_ticks_t::time_ticks_t [0x00007FF62D57B46E+608718]\n\tBaseThreadInitThunk [0x00007FFF2F407034+20]\n\tRtlUserThreadStart [0x00007FFF2F6E2651+33]\n"
     ]
    }
   ],
   "source": [
    "zhang_number=len(driver.find_elements(By.XPATH,r'//li[@class=\"tree-liname-1 tree-liname-only\"]'))\n",
    "\n",
    "for i in range(0,zhang_number):\n",
    "    zhang=driver.find_elements(By.XPATH,r'//li[@class=\"tree-liname-1 tree-liname-only\"]')[i]\n",
    "    zhang.click()\n",
    "    time.sleep(3)\n",
    "    try:\n",
    "        WebDriverWait(driver,5,0.5).until(Ec.visibility_of_element_located(By.XPATH,r'/html/body/div/div[4]/div[2]'))\n",
    "    except:\n",
    "        pass\n",
    "    zhang_name=zhang.find_element(By.XPATH,r'./a//object/a').text\n",
    "    if zhang_name.strip():\n",
    "        print(zhang_name)\n",
    "        for jie in zhang.find_elements(By.XPATH,r'./ul/li'):\n",
    "            if jie.text.strip():\n",
    "                print(jie.text)\n",
    "                try:\n",
    "                    jie.click()\n",
    "                except:\n",
    "                    driver.execute_script(\"arguments[0].click();\", jie)\n",
    "                try:\n",
    "                    wait=WebDriverWait(jie,10,0.1).until(Ec.visibility_of_all_elements_located((By.XPATH,r'./ul/li')))\n",
    "                    time.sleep(1)\n",
    "                except:\n",
    "                    pass\n",
    "                inspect_jie=0\n",
    "                for tiao in jie.find_elements(By.XPATH,r'./ul/li'):\n",
    "                    if tiao.text.strip():\n",
    "                        inspect_jie+=1\n",
    "                        print(tiao.text)\n",
    "                        tiao.click()\n",
    "                        button_list=WebDriverWait(driver,5,0.1).until(Ec.visibility_of_all_elements_located((By.XPATH,r'/html/body/div/div[4]/div[1]/div/span')))\n",
    "                        watch(driver,button_list)\n",
    "                if inspect_jie ==0:\n",
    "                    button_list=WebDriverWait(driver,5,0.1).until(Ec.visibility_of_all_elements_located((By.XPATH,r'/html/body/div/div[4]/div[1]/div/span')))\n",
    "                    watch(driver,button_list)\n",
    "    try:\n",
    "        WebDriverWait(driver,5,0.1).until(Ec.visibility_of_element_located((By.XPATH,r'/html/body/div/div[3]/div[2]')))\n",
    "    except:\n",
    "        print('页面加载失败!')"
   ]
  },
  {
   "cell_type": "code",
   "execution_count": null,
   "metadata": {},
   "outputs": [],
   "source": []
  }
 ],
 "metadata": {
  "interpreter": {
   "hash": "4eaf1be304415beee96765ae99c3f893cc8312c7f1196698e6029668e9aeb3e5"
  },
  "kernelspec": {
   "display_name": "Python 3.9.10 64-bit",
   "language": "python",
   "name": "python3"
  },
  "language_info": {
   "codemirror_mode": {
    "name": "ipython",
    "version": 3
   },
   "file_extension": ".py",
   "mimetype": "text/x-python",
   "name": "python",
   "nbconvert_exporter": "python",
   "pygments_lexer": "ipython3",
   "version": "3.9.10"
  },
  "orig_nbformat": 4
 },
 "nbformat": 4,
 "nbformat_minor": 2
}
